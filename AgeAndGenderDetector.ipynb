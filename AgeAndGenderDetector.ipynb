{
  "nbformat": 4,
  "nbformat_minor": 0,
  "metadata": {
    "colab": {
      "name": "Untitled0.ipynb",
      "provenance": [],
      "authorship_tag": "ABX9TyOEcYcKD1B2NIb59XxfGT/o",
      "include_colab_link": true
    },
    "kernelspec": {
      "name": "python3",
      "display_name": "Python 3"
    }
  },
  "cells": [
    {
      "cell_type": "markdown",
      "metadata": {
        "id": "view-in-github",
        "colab_type": "text"
      },
      "source": [
        "<a href=\"https://colab.research.google.com/github/Shamim392/Age-and-Gender-detection/blob/main/AgeAndGenderDetector.ipynb\" target=\"_parent\"><img src=\"https://colab.research.google.com/assets/colab-badge.svg\" alt=\"Open In Colab\"/></a>"
      ]
    },
    {
      "cell_type": "code",
      "metadata": {
        "colab": {
          "base_uri": "https://localhost:8080/"
        },
        "id": "gpw72FVf7xxl",
        "outputId": "26e39eec-cf01-4cb4-93f4-9bb0fe1d136a"
      },
      "source": [
        "!git clone https://github.com/Shamim392/Age-and-Gender-detection.git"
      ],
      "execution_count": null,
      "outputs": [
        {
          "output_type": "stream",
          "text": [
            "Cloning into 'Age-and-Gender-detection'...\n",
            "remote: Enumerating objects: 7, done.\u001b[K\n",
            "remote: Counting objects: 100% (7/7), done.\u001b[K\n",
            "remote: Compressing objects: 100% (7/7), done.\u001b[K\n",
            "remote: Total 7 (delta 0), reused 7 (delta 0), pack-reused 0\u001b[K\n",
            "Unpacking objects: 100% (7/7), done.\n"
          ],
          "name": "stdout"
        }
      ]
    },
    {
      "cell_type": "code",
      "metadata": {
        "id": "fl9-hBf1IsdB",
        "colab": {
          "base_uri": "https://localhost:8080/"
        },
        "outputId": "8d094460-f0c8-429c-9357-731c444b0929"
      },
      "source": [
        "%cd Age-and-Gender-detection\r\n"
      ],
      "execution_count": 34,
      "outputs": [
        {
          "output_type": "stream",
          "text": [
            "[Errno 2] No such file or directory: 'Age-and-Gender-detection'\n",
            "/content/Age-and-Gender-detection\n"
          ],
          "name": "stdout"
        }
      ]
    },
    {
      "cell_type": "code",
      "metadata": {
        "colab": {
          "base_uri": "https://localhost:8080/"
        },
        "id": "Yyh8-k5tJTcj",
        "outputId": "f5e4a323-0c38-4852-c3ab-6d7a3dc411e4"
      },
      "source": [
        "!gdown https://drive.google.com/uc?id=1_aDScOvBeBLCn_iv0oxSO8X1ySQpSbIS\r\n",
        "\r\n",
        "!unzip modelNweight.zip"
      ],
      "execution_count": 38,
      "outputs": [
        {
          "output_type": "stream",
          "text": [
            "Downloading...\n",
            "From: https://drive.google.com/uc?id=1_aDScOvBeBLCn_iv0oxSO8X1ySQpSbIS\n",
            "To: /content/Age-and-Gender-detection/modelNweight.zip\n",
            "86.2MB [00:00, 140MB/s]\n",
            "Archive:  modelNweight.zip\n",
            "   creating: modelNweight/\n",
            "  inflating: modelNweight/age_deploy.prototxt  \n",
            "  inflating: modelNweight/age_net.caffemodel  \n",
            "  inflating: modelNweight/gender_deploy.prototxt  \n",
            "  inflating: modelNweight/gender_net.caffemodel  \n",
            "  inflating: modelNweight/opencv_face_detector.pbtxt  \n",
            "  inflating: modelNweight/opencv_face_detector_uint8.pb  \n"
          ],
          "name": "stdout"
        }
      ]
    },
    {
      "cell_type": "code",
      "metadata": {
        "id": "YsBLnn0QGLzH"
      },
      "source": [
        "#import required modules\r\n",
        "\r\n",
        "import cv2 as cv \r\n",
        "import math \r\n",
        "import time \r\n",
        "from google.colab.patches import cv2_imshow"
      ],
      "execution_count": 36,
      "outputs": []
    },
    {
      "cell_type": "code",
      "metadata": {
        "id": "mLLtIxKNMyob"
      },
      "source": [
        "def getFaceBox(net, frame, conf_threshold=0.7):\r\n",
        "    frameOpencvDnn = frame.copy()\r\n",
        "    frameHeight = frameOpencvDnn.shape[0]\r\n",
        "    frameWidth = frameOpencvDnn.shape[1]\r\n",
        "    blob = cv.dnn.blobFromImage(frameOpencvDnn, 1.0, (300, 300), [104, 117, 123], True, False)\r\n",
        "\r\n",
        "    net.setInput(blob)\r\n",
        "    detections = net.forward()\r\n",
        "    bboxes = []\r\n",
        "    for i in range(detections.shape[2]):\r\n",
        "        confidence = detections[0, 0, i, 2]\r\n",
        "        if confidence > conf_threshold:\r\n",
        "            x1 = int(detections[0, 0, i, 3] * frameWidth)\r\n",
        "            y1 = int(detections[0, 0, i, 4] * frameHeight)\r\n",
        "            x2 = int(detections[0, 0, i, 5] * frameWidth)\r\n",
        "            y2 = int(detections[0, 0, i, 6] * frameHeight)\r\n",
        "            bboxes.append([x1, y1, x2, y2])\r\n",
        "            cv.rectangle(frameOpencvDnn, (x1, y1), (x2, y2), (0, 255, 0), int(round(frameHeight/150)), 8)\r\n",
        "    return frameOpencvDnn, bboxes\r\n",
        "\r\n",
        "faceProto = \"modelNweight/opencv_face_detector.pbtxt\"\r\n",
        "faceModel = \"modelNweight/opencv_face_detector_uint8.pb\"\r\n",
        "\r\n",
        "ageProto = \"modelNweight/age_deploy.prototxt\"\r\n",
        "ageModel = \"modelNweight/age_net.caffemodel\"\r\n",
        "\r\n",
        "genderProto = \"modelNweight/gender_deploy.prototxt\"\r\n",
        "genderModel = \"modelNweight/gender_net.caffemodel\"\r\n",
        "\r\n",
        "MODEL_MEAN_VALUES = (78.4263377603, 87.7689143744, 114.895847746)\r\n",
        "ageList = ['(0-2)', '(4-6)', '(8-12)', '(15-20)', '(25-32)', '(38-43)', '(48-53)', '(60-100)']\r\n",
        "genderList = ['Male', 'Female']\r\n",
        "\r\n",
        "# Load network\r\n",
        "ageNet = cv.dnn.readNet(ageModel, ageProto)\r\n",
        "genderNet = cv.dnn.readNet(genderModel, genderProto)\r\n",
        "faceNet = cv.dnn.readNet(faceModel, faceProto)\r\n",
        "\r\n",
        "padding = 20\r\n",
        "\r\n",
        "def age_gender_detector(frame):\r\n",
        "    # Read frame\r\n",
        "    t = time.time()\r\n",
        "    frameFace, bboxes = getFaceBox(faceNet, frame)\r\n",
        "    for bbox in bboxes:\r\n",
        "        # print(bbox)\r\n",
        "        face = frame[max(0,bbox[1]-padding):min(bbox[3]+padding,frame.shape[0]-1),max(0,bbox[0]-padding):min(bbox[2]+padding, frame.shape[1]-1)]\r\n",
        "\r\n",
        "        blob = cv.dnn.blobFromImage(face, 1.0, (227, 227), MODEL_MEAN_VALUES, swapRB=False)\r\n",
        "        genderNet.setInput(blob)\r\n",
        "        genderPreds = genderNet.forward()\r\n",
        "        gender = genderList[genderPreds[0].argmax()]\r\n",
        "        ageNet.setInput(blob)\r\n",
        "        agePreds = ageNet.forward()\r\n",
        "        age = ageList[agePreds[0].argmax()]\r\n",
        "\r\n",
        "        label = \"{},{}\".format(gender, age)\r\n",
        "        cv.putText(frameFace, label, (bbox[0], bbox[1]-10), cv.FONT_HERSHEY_SIMPLEX, 0.8, (0, 255, 255), 2, cv.LINE_AA)\r\n",
        "    return frameFace"
      ],
      "execution_count": 39,
      "outputs": []
    },
    {
      "cell_type": "code",
      "metadata": {
        "id": "yg-yDKi8PaRy"
      },
      "source": [
        "input = cv.imread(\"5.jpg\")\r\n",
        "output = age_gender_detector(input)\r\n",
        "cv2_imshow(output)"
      ],
      "execution_count": null,
      "outputs": []
    }
  ]
}